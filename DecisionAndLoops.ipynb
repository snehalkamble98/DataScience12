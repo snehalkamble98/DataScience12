{
 "cells": [
  {
   "cell_type": "code",
   "execution_count": 4,
   "metadata": {},
   "outputs": [
    {
     "name": "stdout",
     "output_type": "stream",
     "text": [
      "Number is less\n"
     ]
    }
   ],
   "source": [
    "# Simple if\n",
    "\n",
    "num=int(input(\"Enter number: \"))\n",
    "\n",
    "if(num<10):\n",
    "    print(\"Number is less\")"
   ]
  },
  {
   "cell_type": "code",
   "execution_count": 9,
   "metadata": {},
   "outputs": [
    {
     "name": "stdout",
     "output_type": "stream",
     "text": [
      "20 Nmuber is Even\n"
     ]
    }
   ],
   "source": [
    "# If else\n",
    "\n",
    "num=int(input(\"Enter number: \"))\n",
    "\n",
    "if(num%2==0):\n",
    "    print(num, \"Nmuber is Even\")\n",
    "else:\n",
    "    print(num, \"Number is odd\")"
   ]
  },
  {
   "cell_type": "code",
   "execution_count": 21,
   "metadata": {},
   "outputs": [
    {
     "name": "stdout",
     "output_type": "stream",
     "text": [
      "20 Number is positive\n"
     ]
    }
   ],
   "source": [
    "# elif\n",
    "\n",
    "num=int(input(\"Enter number: \"))\n",
    "\n",
    "if(num<0):\n",
    "    print(num, \"Number is negative\")\n",
    "elif(num>0):\n",
    "    print(num, \"Number is positive\")\n",
    "else:\n",
    "    print(num, \"Number is 0\")"
   ]
  },
  {
   "cell_type": "code",
   "execution_count": 24,
   "metadata": {},
   "outputs": [
    {
     "name": "stdout",
     "output_type": "stream",
     "text": [
      "80 2nd number is greater\n"
     ]
    }
   ],
   "source": [
    "num1=int(input(\"Enter 1st number: \"))\n",
    "num2=int(input(\"Enter 2nd number: \"))\n",
    "num3=int(input(\"Enter 3rd number: \"))\n",
    "\n",
    "if(num1>num2):\n",
    "    if(num1>num3):\n",
    "        print(num1, \"1st number is greater\")\n",
    "    else:\n",
    "        print(num3, \"3rd number is greater\")\n",
    "else:\n",
    "    if(num2>num3):\n",
    "        print(num2, \"2nd number is greater\")\n",
    "    else:\n",
    "        print(num3,\"3rd number is greater\")"
   ]
  },
  {
   "cell_type": "code",
   "execution_count": 42,
   "metadata": {},
   "outputs": [
    {
     "name": "stdout",
     "output_type": "stream",
     "text": [
      "Your grade is Excellent\n"
     ]
    }
   ],
   "source": [
    "marks=int(input(\"Enter marks: \"))\n",
    "\n",
    "if(marks>=90):\n",
    "    grade= \"Excellent\"\n",
    "elif(marks>=80):\n",
    "    grade= \"Very Good\"\n",
    "elif(marks>=70):\n",
    "    grade= \"Good\"\n",
    "elif(marks>=60):\n",
    "    grade= \"Average\"\n",
    "elif(marks>=50):\n",
    "    grade= \"Pass\"\n",
    "else:\n",
    "    grade= \"Fail\"\n",
    "\n",
    "print(\"Your grade is \" +grade)\n"
   ]
  },
  {
   "cell_type": "code",
   "execution_count": 43,
   "metadata": {},
   "outputs": [
    {
     "name": "stdout",
     "output_type": "stream",
     "text": [
      "1\n",
      "2\n",
      "3\n",
      "4\n",
      "5\n",
      "6\n",
      "7\n",
      "8\n",
      "9\n"
     ]
    }
   ],
   "source": [
    "#### Looping ####\n",
    "\n",
    "# While\n",
    "\n",
    "i=1\n",
    "\n",
    "while(i<10):\n",
    "    print(i)\n",
    "    i+=1\n",
    "\n"
   ]
  },
  {
   "cell_type": "code",
   "execution_count": 44,
   "metadata": {},
   "outputs": [
    {
     "name": "stdout",
     "output_type": "stream",
     "text": [
      "10\n",
      "9\n",
      "8\n",
      "7\n",
      "6\n",
      "5\n",
      "4\n",
      "3\n",
      "2\n",
      "1\n"
     ]
    }
   ],
   "source": [
    "i=10\n",
    "\n",
    "while(i>=1):\n",
    "    print(i)\n",
    "    i-=1\n"
   ]
  },
  {
   "cell_type": "code",
   "execution_count": 9,
   "metadata": {},
   "outputs": [
    {
     "name": "stdout",
     "output_type": "stream",
     "text": [
      "Hello\n",
      "Hello\n",
      "Hello\n",
      "Hello\n",
      "Hello\n"
     ]
    }
   ],
   "source": [
    "i=1\n",
    "\n",
    "while(i<=5):\n",
    "    print(\"Hello\")\n",
    "    i+=1"
   ]
  },
  {
   "cell_type": "code",
   "execution_count": 10,
   "metadata": {},
   "outputs": [
    {
     "name": "stdout",
     "output_type": "stream",
     "text": [
      "congratulation you passes the exam\n"
     ]
    }
   ],
   "source": [
    "sub1 = int(input(\"enter sub1\"))\n",
    "sub2 = int(input(\"enter sub2\"))\n",
    "sub3 = int(input(\"enter sub3\"))\n",
    "\n",
    "if (sub1<35 or sub2<35 or sub3<35):\n",
    "    print(\"you r fail\")\n",
    "elif (sub1+sub2+sub3)/3<40:\n",
    "    print(\"you r fail\")\n",
    "else:\n",
    "    print(\"congratulation you passes the exam\")"
   ]
  }
 ],
 "metadata": {
  "kernelspec": {
   "display_name": "Python 3",
   "language": "python",
   "name": "python3"
  },
  "language_info": {
   "codemirror_mode": {
    "name": "ipython",
    "version": 3
   },
   "file_extension": ".py",
   "mimetype": "text/x-python",
   "name": "python",
   "nbconvert_exporter": "python",
   "pygments_lexer": "ipython3",
   "version": "3.10.2"
  }
 },
 "nbformat": 4,
 "nbformat_minor": 2
}
